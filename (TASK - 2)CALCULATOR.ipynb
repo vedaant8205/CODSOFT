{
 "cells": [
  {
   "cell_type": "code",
   "execution_count": null,
   "id": "4609e235-8ab8-4718-8b4b-863862ac0829",
   "metadata": {},
   "outputs": [
    {
     "name": "stdin",
     "output_type": "stream",
     "text": [
      "Enter the first number:  5\n",
      "Enter the second number:  78\n"
     ]
    },
    {
     "name": "stdout",
     "output_type": "stream",
     "text": [
      "\n",
      "What would you like to do?\n",
      "1. Add (+)\n",
      "2. Subtract (-)\n",
      "3. Multiply (*)\n",
      "4. Divide (/)\n",
      "5. Exit\n"
     ]
    },
    {
     "name": "stdin",
     "output_type": "stream",
     "text": [
      "Enter your choice (1/2/3/4/5):  4\n"
     ]
    },
    {
     "name": "stdout",
     "output_type": "stream",
     "text": [
      "\n",
      " Result: 5.0 / 78.0 = 0.0641025641025641\n"
     ]
    },
    {
     "name": "stdin",
     "output_type": "stream",
     "text": [
      "Enter the first number:  5\n"
     ]
    }
   ],
   "source": [
    "def calculator():\n",
    "  \n",
    "    while True:\n",
    "        try:\n",
    "            num1 = float(input(\"Enter the first number: \"))\n",
    "            num2 = float(input(\"Enter the second number: \"))\n",
    "            \n",
    "            print(\"\\nWhat would you like to do?\")\n",
    "            print(\"1. Add (+)\")\n",
    "            print(\"2. Subtract (-)\")\n",
    "            print(\"3. Multiply (*)\")\n",
    "            print(\"4. Divide (/)\")\n",
    "            print(\"5. Exit\")\n",
    "            \n",
    "            choice = input(\"Enter your choice (1/2/3/4/5): \")\n",
    "            \n",
    "            if choice == '1':\n",
    "                result = num1 + num2\n",
    "                print(f\"\\nResult: {num1} + {num2} = {result}\")\n",
    "            elif choice == '2':\n",
    "                result = num1 - num2\n",
    "                print(f\"\\nResult: {num1} - {num2} = {result}\")\n",
    "            elif choice == '3':\n",
    "                result = num1 * num2\n",
    "                print(f\"\\nResult: {num1} * {num2} = {result}\")\n",
    "            elif choice == '4':\n",
    "                if num2 != 0:\n",
    "                    result = num1 / num2\n",
    "                    print(f\"\\n Result: {num1} / {num2} = {result}\")\n",
    "                else:\n",
    "                    print(\"\\nYou can't divide by zero. Try again.\")\n",
    "            elif choice == '5':\n",
    "                break\n",
    "            else:\n",
    "                print(\"\\n Invalid choice. Please select a valid operation.\")\n",
    "        except ValueError:\n",
    "            print(\"\\nIt is not a valid number. Please try again.\")\n",
    "\n",
    "calculator()"
   ]
  },
  {
   "cell_type": "code",
   "execution_count": null,
   "id": "de6d669c-53ff-49dc-aff1-850d0ce37927",
   "metadata": {},
   "outputs": [],
   "source": []
  }
 ],
 "metadata": {
  "kernelspec": {
   "display_name": "Python 3 (ipykernel)",
   "language": "python",
   "name": "python3"
  },
  "language_info": {
   "codemirror_mode": {
    "name": "ipython",
    "version": 3
   },
   "file_extension": ".py",
   "mimetype": "text/x-python",
   "name": "python",
   "nbconvert_exporter": "python",
   "pygments_lexer": "ipython3",
   "version": "3.13.1"
  }
 },
 "nbformat": 4,
 "nbformat_minor": 5
}
