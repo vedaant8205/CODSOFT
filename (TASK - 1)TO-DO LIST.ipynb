{
 "cells": [
  {
   "cell_type": "code",
   "execution_count": 3,
   "id": "c360e608-e78d-46f4-b122-e840ef5db506",
   "metadata": {},
   "outputs": [
    {
     "name": "stdin",
     "output_type": "stream",
     "text": [
      "\n",
      "1. Add Task 2. View Tasks 3. Delete Task 4. Exit\n",
      "Choose an option:  1\n",
      "Enter a new task:  wake up\n"
     ]
    },
    {
     "name": "stdout",
     "output_type": "stream",
     "text": [
      "Task added!\n"
     ]
    },
    {
     "name": "stdin",
     "output_type": "stream",
     "text": [
      "\n",
      "1. Add Task 2. View Tasks 3. Delete Task 4. Exit\n",
      "Choose an option:  1\n",
      "Enter a new task:  sleep\n"
     ]
    },
    {
     "name": "stdout",
     "output_type": "stream",
     "text": [
      "Task added!\n"
     ]
    },
    {
     "name": "stdin",
     "output_type": "stream",
     "text": [
      "\n",
      "1. Add Task 2. View Tasks 3. Delete Task 4. Exit\n",
      "Choose an option:  2\n"
     ]
    },
    {
     "name": "stdout",
     "output_type": "stream",
     "text": [
      "1. wake up\n",
      "2. sleep\n"
     ]
    },
    {
     "name": "stdin",
     "output_type": "stream",
     "text": [
      "\n",
      "1. Add Task 2. View Tasks 3. Delete Task 4. Exit\n",
      "Choose an option:  4\n"
     ]
    }
   ],
   "source": [
    "#### tasks = []\n",
    "\n",
    "def add_task():\n",
    "    task = input(\"Enter a new task: \")\n",
    "    tasks.append(task)\n",
    "    print(\"Task added!\")\n",
    "\n",
    "def view_tasks():\n",
    "    if not tasks:\n",
    "        print(\"No tasks found.\")\n",
    "    else:\n",
    "        for i, task in enumerate(tasks, 1):\n",
    "            print(f\"{i}. {task}\")\n",
    "\n",
    "def delete_task():\n",
    "    view_tasks()\n",
    "    try:\n",
    "        index = int(input(\"Enter task number to delete: \")) - 1\n",
    "        tasks.pop(index)\n",
    "        print(\"Task deleted!\")\n",
    "    except (IndexError, ValueError):\n",
    "        print(\"Invalid selection.\")\n",
    "\n",
    "def main():\n",
    "    while True:\n",
    "        choice = input(\"\\n1. Add Task 2. View Tasks 3. Delete Task 4. Exit\\nChoose an option: \")\n",
    "        if choice == \"1\": add_task()\n",
    "        elif choice == \"2\": view_tasks()\n",
    "        elif choice == \"3\": delete_task()\n",
    "        elif choice == \"4\": break\n",
    "        else: print(\"Invalid choice.\")\n",
    "\n",
    "if __name__ == \"__main__\":\n",
    "    main()\n"
   ]
  },
  {
   "cell_type": "code",
   "execution_count": null,
   "id": "88101f40-0726-463d-8c68-95f354eaef76",
   "metadata": {},
   "outputs": [],
   "source": []
  }
 ],
 "metadata": {
  "kernelspec": {
   "display_name": "Python 3 (ipykernel)",
   "language": "python",
   "name": "python3"
  },
  "language_info": {
   "codemirror_mode": {
    "name": "ipython",
    "version": 3
   },
   "file_extension": ".py",
   "mimetype": "text/x-python",
   "name": "python",
   "nbconvert_exporter": "python",
   "pygments_lexer": "ipython3",
   "version": "3.13.1"
  }
 },
 "nbformat": 4,
 "nbformat_minor": 5
}
