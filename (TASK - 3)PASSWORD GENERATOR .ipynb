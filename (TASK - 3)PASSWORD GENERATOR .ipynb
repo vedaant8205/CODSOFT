{
 "cells": [
  {
   "cell_type": "code",
   "execution_count": 1,
   "id": "65783117-99c8-4b95-afa0-5b75eb2ecc2b",
   "metadata": {},
   "outputs": [
    {
     "name": "stdout",
     "output_type": "stream",
     "text": [
      "Welcome to the Password Generator!\n"
     ]
    },
    {
     "name": "stdin",
     "output_type": "stream",
     "text": [
      "Enter the desired password length (minimum 4 characters):  5\n"
     ]
    },
    {
     "name": "stdout",
     "output_type": "stream",
     "text": [
      "Your secure password is: #n(+$\n"
     ]
    }
   ],
   "source": [
    "import random\n",
    "import string\n",
    "\n",
    "def generate_password():\n",
    "    print(\"Welcome to the Password Generator!\")\n",
    "    try:\n",
    "        length = int(input(\"Enter the desired password length (minimum 4 characters): \"))\n",
    "        if length < 4:\n",
    "            print(\"Password length should be at least 4 for better security.\")\n",
    "            return\n",
    "        \n",
    "        characters = string.ascii_letters + string.digits + string.punctuation\n",
    "        password = ''.join(random.choice(characters) for _ in range(length))\n",
    "        \n",
    "        print(f\"Your secure password is: {password}\")\n",
    "    except ValueError:\n",
    "        print(\"Please enter a valid number.\")\n",
    "\n",
    "if __name__ == \"__main__\":\n",
    "    generate_password()\n"
   ]
  },
  {
   "cell_type": "code",
   "execution_count": null,
   "id": "d0217944-1f43-4c32-9b12-b3056abe2f6d",
   "metadata": {},
   "outputs": [],
   "source": []
  }
 ],
 "metadata": {
  "kernelspec": {
   "display_name": "Python 3 (ipykernel)",
   "language": "python",
   "name": "python3"
  },
  "language_info": {
   "codemirror_mode": {
    "name": "ipython",
    "version": 3
   },
   "file_extension": ".py",
   "mimetype": "text/x-python",
   "name": "python",
   "nbconvert_exporter": "python",
   "pygments_lexer": "ipython3",
   "version": "3.13.1"
  }
 },
 "nbformat": 4,
 "nbformat_minor": 5
}
