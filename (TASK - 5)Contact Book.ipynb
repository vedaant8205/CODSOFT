{
 "cells": [
  {
   "cell_type": "code",
   "execution_count": 1,
   "id": "5a7f63e3-f5e2-4fcb-b204-7f49e8c27314",
   "metadata": {},
   "outputs": [
    {
     "name": "stdin",
     "output_type": "stream",
     "text": [
      "\n",
      "1. Add 2. View 3. Search 4. Delete 5. Exit\n",
      "Choose:  1\n",
      "Enter name:  vedaant\n",
      "Enter phone:  1232341231\n"
     ]
    },
    {
     "name": "stdout",
     "output_type": "stream",
     "text": [
      "vedaant added!\n"
     ]
    },
    {
     "name": "stdin",
     "output_type": "stream",
     "text": [
      "\n",
      "1. Add 2. View 3. Search 4. Delete 5. Exit\n",
      "Choose:  rahul\n"
     ]
    },
    {
     "name": "stdout",
     "output_type": "stream",
     "text": [
      "Invalid choice.\n"
     ]
    },
    {
     "name": "stdin",
     "output_type": "stream",
     "text": [
      "\n",
      "1. Add 2. View 3. Search 4. Delete 5. Exit\n",
      "Choose:  2\n"
     ]
    },
    {
     "name": "stdout",
     "output_type": "stream",
     "text": [
      "vedaant: 1232341231\n"
     ]
    },
    {
     "name": "stdin",
     "output_type": "stream",
     "text": [
      "\n",
      "1. Add 2. View 3. Search 4. Delete 5. Exit\n",
      "Choose:  2\n"
     ]
    },
    {
     "name": "stdout",
     "output_type": "stream",
     "text": [
      "vedaant: 1232341231\n"
     ]
    },
    {
     "name": "stdin",
     "output_type": "stream",
     "text": [
      "\n",
      "1. Add 2. View 3. Search 4. Delete 5. Exit\n",
      "Choose:  5\n"
     ]
    }
   ],
   "source": [
    "import json\n",
    "\n",
    "CONTACTS_FILE = \"contacts.json\"\n",
    "\n",
    "def load_contacts():\n",
    "    try:\n",
    "        with open(CONTACTS_FILE, \"r\") as file:\n",
    "            return json.load(file)\n",
    "    except (FileNotFoundError, json.JSONDecodeError):\n",
    "        return {}\n",
    "\n",
    "def save_contacts(contacts):\n",
    "    with open(CONTACTS_FILE, \"w\") as file:\n",
    "        json.dump(contacts, file, indent=4)\n",
    "\n",
    "def add_contact():\n",
    "    name = input(\"Enter name: \")\n",
    "    phone = input(\"Enter phone: \")\n",
    "    contacts = load_contacts()\n",
    "    contacts[name] = phone\n",
    "    save_contacts(contacts)\n",
    "    print(f\"{name} added!\")\n",
    "\n",
    "def view_contacts():\n",
    "    contacts = load_contacts()\n",
    "    if contacts:\n",
    "        for name, phone in contacts.items():\n",
    "            print(f\"{name}: {phone}\")\n",
    "    else:\n",
    "        print(\"No contacts found.\")\n",
    "\n",
    "def search_contact():\n",
    "    query = input(\"Search name: \")\n",
    "    contacts = load_contacts()\n",
    "    print(f\"{query}: {contacts.get(query, 'Not found')}\")\n",
    "\n",
    "def delete_contact():\n",
    "    name = input(\"Enter name to delete: \")\n",
    "    contacts = load_contacts()\n",
    "    if name in contacts:\n",
    "        del contacts[name]\n",
    "        save_contacts(contacts)\n",
    "        print(f\"{name} deleted!\")\n",
    "    else:\n",
    "        print(\"Contact not found.\")\n",
    "\n",
    "def main():\n",
    "    while True:\n",
    "        choice = input(\"\\n1. Add 2. View 3. Search 4. Delete 5. Exit\\nChoose: \")\n",
    "        if choice == \"1\": add_contact()\n",
    "        elif choice == \"2\": view_contacts()\n",
    "        elif choice == \"3\": search_contact()\n",
    "        elif choice == \"4\": delete_contact()\n",
    "        elif choice == \"5\": break\n",
    "        else: print(\"Invalid choice.\")\n",
    "\n",
    "if __name__ == \"__main__\":\n",
    "    main()\n"
   ]
  },
  {
   "cell_type": "code",
   "execution_count": null,
   "id": "32196c2b-0b5f-4bc6-939c-6a3b759f7306",
   "metadata": {},
   "outputs": [],
   "source": []
  }
 ],
 "metadata": {
  "kernelspec": {
   "display_name": "Python 3 (ipykernel)",
   "language": "python",
   "name": "python3"
  },
  "language_info": {
   "codemirror_mode": {
    "name": "ipython",
    "version": 3
   },
   "file_extension": ".py",
   "mimetype": "text/x-python",
   "name": "python",
   "nbconvert_exporter": "python",
   "pygments_lexer": "ipython3",
   "version": "3.13.1"
  }
 },
 "nbformat": 4,
 "nbformat_minor": 5
}
